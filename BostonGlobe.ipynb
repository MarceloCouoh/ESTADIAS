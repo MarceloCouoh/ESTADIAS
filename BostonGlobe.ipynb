{
 "cells": [
  {
   "cell_type": "code",
   "execution_count": 3,
   "metadata": {},
   "outputs": [],
   "source": [
    "from urllib.request import urlopen"
   ]
  },
  {
   "cell_type": "code",
   "execution_count": 4,
   "metadata": {},
   "outputs": [],
   "source": [
    "from urllib.error import HTTPError"
   ]
  },
  {
   "cell_type": "code",
   "execution_count": 5,
   "metadata": {},
   "outputs": [],
   "source": [
    "from bs4 import BeautifulSoup"
   ]
  },
  {
   "cell_type": "code",
   "execution_count": 6,
   "metadata": {},
   "outputs": [
    {
     "name": "stdout",
     "output_type": "stream",
     "text": [
      "<title>The Boston Globe</title>\n"
     ]
    }
   ],
   "source": [
    "try:\n",
    "\n",
    "    html = urlopen(\"https://www.bostonglobe.com/\")\n",
    "    \n",
    "except HTTPError as e:\n",
    "\n",
    "    print(e)\n",
    "\n",
    "else:\n",
    "\n",
    "    res = BeautifulSoup(html.read(),\"html\")\n",
    "\n",
    "    print(res.title)"
   ]
  },
  {
   "cell_type": "code",
   "execution_count": 16,
   "metadata": {},
   "outputs": [],
   "source": [
    "tags = res.findAll(\"span\", {\"class\": \"link\"})"
   ]
  },
  {
   "cell_type": "code",
   "execution_count": 19,
   "metadata": {},
   "outputs": [],
   "source": [
    "from urllib.request import urlopen\n",
    "\n",
    "from urllib.error import HTTPError\n",
    "\n",
    "from urllib.error import URLError\n",
    "\n",
    "from bs4 import BeautifulSoup\n",
    "\n",
    "try:\n",
    "\n",
    "    html = urlopen(\"https://www.bostonglobe.com/\")\n",
    "\n",
    "except HTTPError as e:\n",
    "\n",
    "    print(e)\n",
    "\n",
    "except URLError:\n",
    "\n",
    "    print(\"Server down or incorrect domain\")\n",
    "\n",
    "else:\n",
    "\n",
    "    res = BeautifulSoup(html.read(),\"html\")\n",
    "\n",
    "    tags = res.findAll(\"span\", {\"class\": \"links\"})"
   ]
  },
  {
   "cell_type": "code",
   "execution_count": 20,
   "metadata": {},
   "outputs": [
    {
     "name": "stdout",
     "output_type": "stream",
     "text": [
      "Town-by-town COVID-19 data in Massachusetts\n",
      "The latest COVID-19 numbers from Massachusetts\n",
      "What Mayor Walsh said today about creating more outdoor dining in Boston\n",
      "Jeneé Osterheldt: A Black man was lynched in Georgia\n",
      "CDC: keep cleaning frequently touched surfaces, but experts think coronavirus mainly spreads person-to-person\n",
      "AP-NORC poll: 83% of Americans are at least somewhat concerned that lifting restrictions in their area will lead to additional COVID-19 infections\n",
      "\n",
      "Analysis: Trump is back to attacking Obama. That’s not the best idea\n",
      "Trump says ‘we’re not gonna close the country’ again if a second wave of coronavirus hits\n",
      "Gloucester to reopen beaches Friday— with extensive restrictions\n",
      "We want to know: When do you think you'll eat in a restaurant again?\n",
      "A running list of Boston-area restaurants that have closed amid COVID-19\n",
      "She wanted to help women chefs who are out of work, so she created a space for them to teach\n",
      "Highlights from the plea deal\n",
      "Loughlin case won’t change much about college admissions, expert says\n"
     ]
    }
   ],
   "source": [
    "for tag in tags:\n",
    "\n",
    "        print(tag.getText())"
   ]
  },
  {
   "cell_type": "code",
   "execution_count": 21,
   "metadata": {},
   "outputs": [],
   "source": [
    "import pandas as pd"
   ]
  },
  {
   "cell_type": "code",
   "execution_count": 22,
   "metadata": {},
   "outputs": [
    {
     "data": {
      "text/html": [
       "<div>\n",
       "<style scoped>\n",
       "    .dataframe tbody tr th:only-of-type {\n",
       "        vertical-align: middle;\n",
       "    }\n",
       "\n",
       "    .dataframe tbody tr th {\n",
       "        vertical-align: top;\n",
       "    }\n",
       "\n",
       "    .dataframe thead th {\n",
       "        text-align: right;\n",
       "    }\n",
       "</style>\n",
       "<table border=\"1\" class=\"dataframe\">\n",
       "  <thead>\n",
       "    <tr style=\"text-align: right;\">\n",
       "      <th></th>\n",
       "      <th>noticias</th>\n",
       "    </tr>\n",
       "  </thead>\n",
       "  <tbody>\n",
       "    <tr>\n",
       "      <th>0</th>\n",
       "      <td>[[], [Town-by-town COVID-19 data in Massachuse...</td>\n",
       "    </tr>\n",
       "    <tr>\n",
       "      <th>1</th>\n",
       "      <td>[[], [The latest COVID-19 numbers from Massach...</td>\n",
       "    </tr>\n",
       "    <tr>\n",
       "      <th>2</th>\n",
       "      <td>[[], [What Mayor Walsh said today about creati...</td>\n",
       "    </tr>\n",
       "    <tr>\n",
       "      <th>3</th>\n",
       "      <td>[[], [Jeneé Osterheldt: A Black man was lynche...</td>\n",
       "    </tr>\n",
       "    <tr>\n",
       "      <th>4</th>\n",
       "      <td>[[], [CDC: keep cleaning frequently touched su...</td>\n",
       "    </tr>\n",
       "    <tr>\n",
       "      <th>5</th>\n",
       "      <td>[[], [AP-NORC poll: 83% of Americans are at le...</td>\n",
       "    </tr>\n",
       "    <tr>\n",
       "      <th>6</th>\n",
       "      <td>[[], [Analysis: Trump is back to attacking Oba...</td>\n",
       "    </tr>\n",
       "    <tr>\n",
       "      <th>7</th>\n",
       "      <td>[[], [Trump says ‘we’re not gonna close the co...</td>\n",
       "    </tr>\n",
       "    <tr>\n",
       "      <th>8</th>\n",
       "      <td>[[], [Gloucester to reopen beaches Friday— wit...</td>\n",
       "    </tr>\n",
       "    <tr>\n",
       "      <th>9</th>\n",
       "      <td>[[], [We want to know: When do you think you'l...</td>\n",
       "    </tr>\n",
       "    <tr>\n",
       "      <th>10</th>\n",
       "      <td>[[], [A running list of Boston-area restaurant...</td>\n",
       "    </tr>\n",
       "    <tr>\n",
       "      <th>11</th>\n",
       "      <td>[[], [She wanted to help women chefs who are o...</td>\n",
       "    </tr>\n",
       "    <tr>\n",
       "      <th>12</th>\n",
       "      <td>[[], [Highlights from the plea deal]]</td>\n",
       "    </tr>\n",
       "    <tr>\n",
       "      <th>13</th>\n",
       "      <td>[[], [Loughlin case won’t change much about co...</td>\n",
       "    </tr>\n",
       "  </tbody>\n",
       "</table>\n",
       "</div>"
      ],
      "text/plain": [
       "                                             noticias\n",
       "0   [[], [Town-by-town COVID-19 data in Massachuse...\n",
       "1   [[], [The latest COVID-19 numbers from Massach...\n",
       "2   [[], [What Mayor Walsh said today about creati...\n",
       "3   [[], [Jeneé Osterheldt: A Black man was lynche...\n",
       "4   [[], [CDC: keep cleaning frequently touched su...\n",
       "5   [[], [AP-NORC poll: 83% of Americans are at le...\n",
       "6   [[], [Analysis: Trump is back to attacking Oba...\n",
       "7   [[], [Trump says ‘we’re not gonna close the co...\n",
       "8   [[], [Gloucester to reopen beaches Friday— wit...\n",
       "9   [[], [We want to know: When do you think you'l...\n",
       "10  [[], [A running list of Boston-area restaurant...\n",
       "11  [[], [She wanted to help women chefs who are o...\n",
       "12              [[], [Highlights from the plea deal]]\n",
       "13  [[], [Loughlin case won’t change much about co..."
      ]
     },
     "execution_count": 22,
     "metadata": {},
     "output_type": "execute_result"
    }
   ],
   "source": [
    "weather = pd.DataFrame({\n",
    "    \"noticias\": tags,\n",
    "   \n",
    "})\n",
    "weather"
   ]
  },
  {
   "cell_type": "code",
   "execution_count": null,
   "metadata": {},
   "outputs": [],
   "source": []
  }
 ],
 "metadata": {
  "kernelspec": {
   "display_name": "Python 3",
   "language": "python",
   "name": "python3"
  },
  "language_info": {
   "codemirror_mode": {
    "name": "ipython",
    "version": 3
   },
   "file_extension": ".py",
   "mimetype": "text/x-python",
   "name": "python",
   "nbconvert_exporter": "python",
   "pygments_lexer": "ipython3",
   "version": "3.8.1"
  }
 },
 "nbformat": 4,
 "nbformat_minor": 2
}
